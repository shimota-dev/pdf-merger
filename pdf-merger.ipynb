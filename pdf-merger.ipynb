{
 "cells": [
  {
   "cell_type": "code",
   "execution_count": 5,
   "metadata": {},
   "outputs": [],
   "source": [
    "import os\n",
    "\n",
    "from PyPDF2 import PdfMerger\n",
    "\n",
    "\n",
    "def merge_pdfs(input_dir, output_filename):\n",
    "    merger = PdfMerger()\n",
    "\n",
    "    # 入力ディレクトリ内のすべてのPDFファイルを取得\n",
    "    pdf_files = [f for f in os.listdir(input_dir) if f.endswith(\".pdf\")]\n",
    "\n",
    "    # ファイル名でソート（必要に応じて）\n",
    "    pdf_files.sort()\n",
    "\n",
    "    # 各PDFファイルをマージャーに追加\n",
    "    for pdf in pdf_files:\n",
    "        merger.append(os.path.join(input_dir, pdf))\n",
    "\n",
    "    # 結合したPDFを保存\n",
    "    merger.write(output_filename)\n",
    "    merger.close()\n",
    "\n",
    "\n",
    "# 使用例\n",
    "input_directory = \"./\"\n",
    "output_file = \"merge_file.pdf\"\n",
    "merge_pdfs(input_directory, output_file)"
   ]
  }
 ],
 "metadata": {
  "kernelspec": {
   "display_name": "Python 3 (ipykernel)",
   "language": "python",
   "name": "python3"
  },
  "language_info": {
   "codemirror_mode": {
    "name": "ipython",
    "version": 3
   },
   "file_extension": ".py",
   "mimetype": "text/x-python",
   "name": "python",
   "nbconvert_exporter": "python",
   "pygments_lexer": "ipython3",
   "version": "3.11.9"
  }
 },
 "nbformat": 4,
 "nbformat_minor": 4
}
